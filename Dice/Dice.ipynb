{
 "cells": [
  {
   "cell_type": "markdown",
   "metadata": {},
   "source": [
    "\n",
    "# David Brookes\n",
    "# May 2022"
   ]
  },
  {
   "cell_type": "markdown",
   "metadata": {},
   "source": [
    "# Probabilty Problem:\n",
    "# On average, how many times must a die be thrown until one gets a 4?"
   ]
  },
  {
   "cell_type": "code",
   "execution_count": 1,
   "metadata": {},
   "outputs": [],
   "source": [
    "# Note that no programming knowledge is assumed, but some mathematics and probability\n",
    "# theory is assumed."
   ]
  },
  {
   "cell_type": "code",
   "execution_count": 2,
   "metadata": {},
   "outputs": [],
   "source": [
    "# Determine the expected number of throws of a 6 sided fair die to produce \n",
    "# a preselected outcome for the first time (e.g. 4, say - it doesn't matter which number is chosen\n",
    "# when a fair die is used)."
   ]
  },
  {
   "cell_type": "markdown",
   "metadata": {},
   "source": [
    "## Theoretical Solution"
   ]
  },
  {
   "cell_type": "code",
   "execution_count": 3,
   "metadata": {},
   "outputs": [],
   "source": [
    "# Theoretical result (obtained by summing an infinite series, for example).\n",
    "# (This is the exact result)."
   ]
  },
  {
   "cell_type": "code",
   "execution_count": 2,
   "metadata": {},
   "outputs": [
    {
     "name": "stdout",
     "output_type": "stream",
     "text": [
      "Theoretical Solution\n",
      "Expected number of throws  6.0\n"
     ]
    }
   ],
   "source": [
    "# p represents the probability of getting a 4 for each throw of the die.\n",
    "p = 1/6\n",
    "\n",
    "theoretical_number_of_throws = 1/p\n",
    "\n",
    "print('Theoretical Solution')\n",
    "print('Expected number of throws ', theoretical_number_of_throws)"
   ]
  },
  {
   "cell_type": "markdown",
   "metadata": {},
   "source": [
    "## Computational Solution (Truncated Series)"
   ]
  },
  {
   "cell_type": "code",
   "execution_count": 5,
   "metadata": {},
   "outputs": [],
   "source": [
    "# Approximate result using computation (summing a truncated series).\n",
    "# Need to calculate the probability of first throwing a 4 on either...\n",
    "# the first throw or...\n",
    "# the second or...\n",
    "# the third throw or...\n",
    "# ...etc"
   ]
  },
  {
   "cell_type": "code",
   "execution_count": 1,
   "metadata": {},
   "outputs": [
    {
     "name": "stdout",
     "output_type": "stream",
     "text": [
      "Computational Solution\n",
      "Expected number of throws  5.999998720084613\n"
     ]
    }
   ],
   "source": [
    "expected_throws = 0.0\n",
    "max_num_throws = 100 # i.e. Less than infinity!\n",
    "p = 1/6 # The probability of throwing a 4.\n",
    "q = 1-p # The probability of not throwing a 4.\n",
    "\n",
    "for throw in range(1,max_num_throws+1):\n",
    "    #print(throw)\n",
    "    probability = (q**(throw-1))*p \n",
    "    #print(probability)\n",
    "    \n",
    "    expected_throws = expected_throws + probability*throw\n",
    "    \n",
    "print('Computational Solution')\n",
    "print('Expected number of throws ', expected_throws)   "
   ]
  },
  {
   "cell_type": "markdown",
   "metadata": {},
   "source": [
    "## Solution by Simulation"
   ]
  },
  {
   "cell_type": "code",
   "execution_count": 7,
   "metadata": {},
   "outputs": [],
   "source": [
    "# Approximate solution using simulation (generation of random numbers - Monte carlo simulation).\n",
    "# The computer generates a series of random numbers that represent the rolls of a die.\n",
    "# e.g. 6, 5, 2, 6, 2, 4 - here 4 appears on the sixth roll in this trial (i.e. success!).\n",
    "# Many trials are run, and the average of the number of rolls to success is calculated. "
   ]
  },
  {
   "cell_type": "code",
   "execution_count": 3,
   "metadata": {},
   "outputs": [
    {
     "name": "stdout",
     "output_type": "stream",
     "text": [
      "Simulation Solution\n",
      "Expected number of throws  5.595\n",
      "\n"
     ]
    }
   ],
   "source": [
    "import numpy as np\n",
    "\n",
    "number_of_trials = 1000\n",
    "\n",
    "preselected_number = 4\n",
    "\n",
    "total_throws_to_success = 0\n",
    "for trial in range(number_of_trials):\n",
    "    success = False\n",
    "    #print('trial ', trial)\n",
    "    throw_count = 0\n",
    "    while not success:\n",
    "        throw_count += 1\n",
    "        #print('throw count:', throw_count)\n",
    "        result_of_throw = np.random.randint(1, 6+1)\n",
    "        #print(random_int)\n",
    "        if (result_of_throw == preselected_number):\n",
    "            success = True\n",
    "            #print('success')\n",
    "        else:\n",
    "            pass\n",
    "            #print('failure')\n",
    "    total_throws_to_success += throw_count\n",
    "    \n",
    "average_throws_to_success = total_throws_to_success/number_of_trials\n",
    "\n",
    "print('Simulation Solution')\n",
    "print('Expected number of throws ', average_throws_to_success)  \n",
    "print()"
   ]
  }
 ],
 "metadata": {
  "kernelspec": {
   "display_name": "Python 3",
   "language": "python",
   "name": "python3"
  },
  "language_info": {
   "codemirror_mode": {
    "name": "ipython",
    "version": 3
   },
   "file_extension": ".py",
   "mimetype": "text/x-python",
   "name": "python",
   "nbconvert_exporter": "python",
   "pygments_lexer": "ipython3",
   "version": "3.8.5"
  }
 },
 "nbformat": 4,
 "nbformat_minor": 4
}
